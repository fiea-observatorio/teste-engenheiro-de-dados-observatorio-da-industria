{
 "cells": [
  {
   "cell_type": "code",
   "execution_count": 1,
   "metadata": {},
   "outputs": [],
   "source": [
    "from pyspark.sql import SparkSession\n",
    "from pyspark.sql.types import StructType, StructField, IntegerType, StringType\n",
    "import requests"
   ]
  },
  {
   "cell_type": "code",
   "execution_count": 2,
   "metadata": {},
   "outputs": [],
   "source": [
    "url = \"https://servicodados.ibge.gov.br/api/v3/agregados/1839/periodos/2022/variaveis/630?localidades=N1[all]\""
   ]
  },
  {
   "cell_type": "code",
   "execution_count": 3,
   "metadata": {},
   "outputs": [
    {
     "data": {
      "text/plain": [
       "[{'id': '630',\n",
       "  'variavel': 'Número de empresas',\n",
       "  'unidade': 'Unidades',\n",
       "  'resultados': [{'classificacoes': [{'id': '319',\n",
       "      'nome': 'Faixas de pessoal ocupado',\n",
       "      'categoria': {'104029': 'Total'}},\n",
       "     {'id': '9117',\n",
       "      'nome': 'Tipo de indústria',\n",
       "      'categoria': {'99735': 'Total'}}],\n",
       "    'series': [{'localidade': {'id': '1',\n",
       "       'nivel': {'id': 'N1', 'nome': 'Brasil'},\n",
       "       'nome': 'Brasil'},\n",
       "      'serie': {'2022': '346105'}}]}]}]"
      ]
     },
     "execution_count": 3,
     "metadata": {},
     "output_type": "execute_result"
    }
   ],
   "source": [
    "# Extração\n",
    "response = requests.get(url)\n",
    "response.raise_for_status()\n",
    "data = response.json()\n",
    "\n",
    "\n",
    "# Extração\n",
    "response = requests.get(url)\n",
    "response.raise_for_status()  # Levanta um erro se a requisição falhar\n",
    "data = response.json()\n",
    "\n",
    "# Cria uma sessão Spark\n",
    "spark = SparkSession.builder.appName(\"PesquisaIndustrialAnual\").getOrCreate()\n",
    "\n",
    "# Define o schema\n",
    "schema = StructType([\n",
    "    StructField(\"variavel_id\", IntegerType(), False),\n",
    "    StructField(\"variavel\", StringType(), False),\n",
    "    StructField(\"categoria_id\", IntegerType(), False),\n",
    "    StructField(\"categoria_nome\", StringType(), False),\n",
    "    StructField(\"unidade\", StringType(), False),\n",
    "    StructField(\"valor\", IntegerType(), False),\n",
    "    StructField(\"classificacao_id\", IntegerType(), False),\n",
    "    StructField(\"classificacao_nome\", StringType(), False),\n",
    "    StructField(\"localidade_id\", IntegerType(), False),\n",
    "    StructField(\"localidade\", StringType(), False),\n",
    "    StructField(\"nivel_geografico\", StringType(), False),\n",
    "    StructField(\"data\", StringType(), False),\n",
    "])\n",
    "\n",
    "# Função para extrair os dados\n",
    "def extrair_dados(data):\n",
    "    linhas = []\n",
    "    \n",
    "    for item in data:\n",
    "        variavel_id = int(item[\"id\"])\n",
    "        variavel = item[\"variavel\"]\n",
    "        unidade = item[\"unidade\"]\n",
    "        \n",
    "        resultado = item[\"resultados\"][0]\n",
    "        valor = int(resultado[\"series\"][0][\"serie\"][\"2022\"])\n",
    "        \n",
    "        localidade_id = int(resultado[\"series\"][0][\"localidade\"][\"id\"])\n",
    "        localidade = resultado[\"series\"][0][\"localidade\"][\"nome\"]\n",
    "        nivel_geografico = resultado[\"series\"][0][\"localidade\"][\"nivel\"][\"id\"]\n",
    "        data_ano = \"2022\"\n",
    "        \n",
    "        classificacoes = resultado[\"classificacoes\"]\n",
    "        \n",
    "        for classificacao in classificacoes:\n",
    "            classificacao_id = int(classificacao[\"id\"])\n",
    "            classificacao_nome = classificacao[\"nome\"]\n",
    "            \n",
    "            for categoria_id, categoria_nome in classificacao[\"categoria\"].items():\n",
    "                linhas.append((\n",
    "                    variavel_id,\n",
    "                    variavel,\n",
    "                    int(categoria_id),\n",
    "                    categoria_nome,\n",
    "                    unidade,\n",
    "                    valor,\n",
    "                    classificacao_id,\n",
    "                    classificacao_nome,\n",
    "                    localidade_id,\n",
    "                    localidade,\n",
    "                    nivel_geografico,\n",
    "                    data_ano\n",
    "                ))\n",
    "    \n",
    "    # Cria DataFrame do Spark\n",
    "    df = spark.createDataFrame(linhas, schema=schema)\n",
    "    return df\n",
    "\n",
    "# Instancia o DataFrame\n",
    "df_spark = extrair_dados(data)\n",
    "\n",
    "# Mostrando os resultados\n",
    "df_spark.show()"
   ]
  }
 ],
 "metadata": {
  "kernelspec": {
   "display_name": "3.11.5",
   "language": "python",
   "name": "python3"
  },
  "language_info": {
   "codemirror_mode": {
    "name": "ipython",
    "version": 3
   },
   "file_extension": ".py",
   "mimetype": "text/x-python",
   "name": "python",
   "nbconvert_exporter": "python",
   "pygments_lexer": "ipython3",
   "version": "3.11.5"
  }
 },
 "nbformat": 4,
 "nbformat_minor": 2
}
