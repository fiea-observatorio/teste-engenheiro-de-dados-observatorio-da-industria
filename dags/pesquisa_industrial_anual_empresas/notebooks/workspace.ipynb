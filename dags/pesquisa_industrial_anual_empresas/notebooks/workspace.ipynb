{
 "cells": [
  {
   "cell_type": "code",
   "execution_count": 1,
   "metadata": {},
   "outputs": [],
   "source": [
    "# importe os pacotes aqui\n",
    "import requests\n",
    "from pyspark.sql import SparkSession\n",
    "from pyspark.sql.functions import col\n",
    "\n"
   ]
  },
  {
   "cell_type": "code",
   "execution_count": null,
   "metadata": {},
   "outputs": [
    {
     "name": "stdout",
     "output_type": "stream",
     "text": [
      "+----+----------+------+\n",
      "| ano|localidade| valor|\n",
      "+----+----------+------+\n",
      "|2022|    Brasil|346105|\n",
      "+----+----------+------+\n",
      "\n"
     ]
    }
   ],
   "source": [
    "# url para o cojunto de dados \n",
    "url = \"https://servicodados.ibge.gov.br/api/v3/agregados/1839/periodos/2022/variaveis/630?localidades=N1[all]\"\n",
    "response = requests.get(url)\n",
    "data = response.json()\n",
    "\n",
    "def extract_values(data):\n",
    "    results = []\n",
    "    for record in data[0]['resultados'][0]['series']:\n",
    "        for year, value in record['serie'].items():\n",
    "            results.append({\n",
    "                'localidade': record['localidade']['nome'],\n",
    "                'valor': int(value),\n",
    "                'ano': int(year)\n",
    "            })\n",
    "    return results\n",
    "\n",
    "spark = SparkSession.builder \\\n",
    "    .appName(\"Data Extraction and Transformation\") \\\n",
    "    .getOrCreate()\n",
    "\n",
    "df = spark.createDataFrame(extract_values(data))\n",
    "df.show()\n",
    "\n"
   ]
  },
  {
   "cell_type": "code",
   "execution_count": 9,
   "metadata": {},
   "outputs": [
    {
     "name": "stdout",
     "output_type": "stream",
     "text": [
      "+----+----------+------+-------------+\n",
      "| ano|localidade| valor|valor_dobrado|\n",
      "+----+----------+------+-------------+\n",
      "|2022|    Brasil|346105|       692210|\n",
      "+----+----------+------+-------------+\n",
      "\n"
     ]
    }
   ],
   "source": [
    "# escreva o código de extração e transformação a partir daqui\n",
    "df = df.withColumn('valor_dobrado', col('valor') * 2)\n",
    "df.show()"
   ]
  },
  {
   "cell_type": "code",
   "execution_count": 4,
   "metadata": {},
   "outputs": [
    {
     "name": "stdout",
     "output_type": "stream",
     "text": [
      "Todos os testes de extração e transformação passaram.\n"
     ]
    }
   ],
   "source": [
    "# teste do código\n",
    "def test_data_extraction(df):\n",
    "    assert df.count() > 0, \"DataFrame está vazio\"\n",
    "    for column in ['localidade', 'valor', 'ano', 'valor_dobrado']:\n",
    "        assert column in df.columns, f\"Coluna '{column}' não encontrada\"\n",
    "    print(\"Todos os testes de extração e transformação passaram.\")\n",
    "\n",
    "test_data_extraction(df)"
   ]
  }
 ],
 "metadata": {
  "kernelspec": {
   "display_name": "Python 3 (ipykernel)",
   "language": "python",
   "name": "python3"
  },
  "language_info": {
   "codemirror_mode": {
    "name": "ipython",
    "version": 3
   },
   "file_extension": ".py",
   "mimetype": "text/x-python",
   "name": "python",
   "nbconvert_exporter": "python",
   "pygments_lexer": "ipython3",
   "version": "3.11.6"
  }
 },
 "nbformat": 4,
 "nbformat_minor": 4
}
